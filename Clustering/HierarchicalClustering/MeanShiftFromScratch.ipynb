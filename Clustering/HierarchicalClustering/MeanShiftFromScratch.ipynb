{
 "cells": [
  {
   "cell_type": "markdown",
   "metadata": {},
   "source": [
    "# Mean Shift from Scratch"
   ]
  },
  {
   "cell_type": "code",
   "execution_count": 1,
   "metadata": {
    "collapsed": true
   },
   "outputs": [],
   "source": [
    "import matplotlib.pyplot as plt\n",
    "import numpy as np\n",
    "from matplotlib import style\n",
    "  \n",
    "style.use(\"ggplot\")"
   ]
  },
  {
   "cell_type": "code",
   "execution_count": 2,
   "metadata": {
    "collapsed": false
   },
   "outputs": [
    {
     "data": {
      "image/png": "[encoded data removed]",
      "text/plain": [
       "<matplotlib.figure.Figure at 0x180f1d293c8>"
      ]
     },
     "metadata": {},
     "output_type": "display_data"
    }
   ],
   "source": [
    "X = np.array([[1, 2],\n",
    "            [1.5, 1.8],\n",
    "            [5, 2.7],\n",
    "            [8, 8],\n",
    "            [1, 0.6],\n",
    "            [9, 11],\n",
    "            [1, 0.6],\n",
    "            [5.4, 1.7],\n",
    "            [5, 8.4],\n",
    "            [6.9, 6.4],\n",
    "            [2, 4]])\n",
    "plt.scatter(X[:,0], X[:,1], s = 150)\n",
    "plt.show()\n",
    "colors = 10 * [\"g\", \"r\", \"b\", \"y\", \"c\", \"k\"]"
   ]
  },
  {
   "cell_type": "code",
   "execution_count": 3,
   "metadata": {
    "collapsed": true
   },
   "outputs": [],
   "source": [
    "class MeanShift:\n",
    "    def __init__(self, radius=4):\n",
    "        self.radius = radius\n",
    "    \n",
    "    def fit(self, data):\n",
    "        centroids = {}\n",
    "        \n",
    "        for i in range(len(data)):\n",
    "            centroids[i] = data[i]\n",
    "        \n",
    "        while True:\n",
    "            new_centroids = []\n",
    "            for i in centroids:\n",
    "                in_bandwdith = []  # All centroids in the radius\n",
    "                centroid = centroids[i]\n",
    "                for featureset in data:\n",
    "                    if np.linalg.norm(featureset - centroid) < self.radius:\n",
    "                        in_bandwdith.append(featureset)\n",
    "                new_centroid = np.average(in_bandwdith, axis=0)  # Mean vector      \n",
    "                new_centroids.append(tuple(new_centroid))\n",
    "            # In the process, some of the centroids will be an identical copies of other centroids.\n",
    "            # Next lines fix that problem.\n",
    "            uniques = sorted(list(set(new_centroids)))  # Unique elements from the new centroids list\n",
    "            "
   ]
  }
 ],
 "metadata": {
  "kernelspec": {
   "display_name": "Python 3",
   "language": "python",
   "name": "python3"
  },
  "language_info": {
   "codemirror_mode": {
    "name": "ipython",
    "version": 3
   },
   "file_extension": ".py",
   "mimetype": "text/x-python",
   "name": "python",
   "nbconvert_exporter": "python",
   "pygments_lexer": "ipython3",
   "version": "3.6.0"
  }
 },
 "nbformat": 4,
 "nbformat_minor": 2
}
