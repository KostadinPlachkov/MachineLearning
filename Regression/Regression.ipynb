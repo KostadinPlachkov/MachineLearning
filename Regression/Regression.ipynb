{
 "cells": [
  {
   "cell_type": "code",
   "execution_count": 1,
   "metadata": {
    "collapsed": false
   },
   "outputs": [
    {
     "name": "stderr",
     "output_type": "stream",
     "text": [
      "D:\\Anaconda\\lib\\site-packages\\sklearn\\cross_validation.py:44: DeprecationWarning: This module was deprecated in version 0.18 in favor of the model_selection module into which all the refactored classes and functions are moved. Also note that the interface of the new CV iterators are different from that of this module. This module will be removed in 0.20.\n",
      "  \"This module will be removed in 0.20.\", DeprecationWarning)\n"
     ]
    }
   ],
   "source": [
    "import pandas as pd\n",
    "import quandl\n",
    "import math\n",
    "import numpy as np\n",
    "from sklearn import preprocessing, cross_validation, svm\n",
    "from sklearn.linear_model import LinearRegression\n"
   ]
  },
  {
   "cell_type": "code",
   "execution_count": 2,
   "metadata": {
    "collapsed": false
   },
   "outputs": [
    {
     "data": {
      "text/html": [
       "<div>\n",
       "<style>\n",
       "    .dataframe thead tr:only-child th {\n",
       "        text-align: right;\n",
       "    }\n",
       "\n",
       "    .dataframe thead th {\n",
       "        text-align: left;\n",
       "    }\n",
       "\n",
       "    .dataframe tbody tr th {\n",
       "        vertical-align: top;\n",
       "    }\n",
       "</style>\n",
       "<table border=\"1\" class=\"dataframe\">\n",
       "  <thead>\n",
       "    <tr style=\"text-align: right;\">\n",
       "      <th></th>\n",
       "      <th>Adj. Close</th>\n",
       "      <th>HL_PCT</th>\n",
       "      <th>PCT_change</th>\n",
       "      <th>Adj. Volume</th>\n",
       "    </tr>\n",
       "    <tr>\n",
       "      <th>Date</th>\n",
       "      <th></th>\n",
       "      <th></th>\n",
       "      <th></th>\n",
       "      <th></th>\n",
       "    </tr>\n",
       "  </thead>\n",
       "  <tbody>\n",
       "    <tr>\n",
       "      <th>2017-07-05</th>\n",
       "      <td>327.09</td>\n",
       "      <td>6.160384</td>\n",
       "      <td>-5.792051</td>\n",
       "      <td>16883496.0</td>\n",
       "    </tr>\n",
       "    <tr>\n",
       "      <th>2017-07-06</th>\n",
       "      <td>308.89</td>\n",
       "      <td>3.852472</td>\n",
       "      <td>-2.638215</td>\n",
       "      <td>19189195.0</td>\n",
       "    </tr>\n",
       "    <tr>\n",
       "      <th>2017-07-07</th>\n",
       "      <td>313.22</td>\n",
       "      <td>1.206819</td>\n",
       "      <td>-0.089314</td>\n",
       "      <td>14053750.0</td>\n",
       "    </tr>\n",
       "    <tr>\n",
       "      <th>2017-07-10</th>\n",
       "      <td>316.05</td>\n",
       "      <td>0.598007</td>\n",
       "      <td>1.006711</td>\n",
       "      <td>13702080.0</td>\n",
       "    </tr>\n",
       "    <tr>\n",
       "      <th>2017-07-11</th>\n",
       "      <td>327.22</td>\n",
       "      <td>0.018336</td>\n",
       "      <td>3.550633</td>\n",
       "      <td>11400054.0</td>\n",
       "    </tr>\n",
       "  </tbody>\n",
       "</table>\n",
       "</div>"
      ],
      "text/plain": [
       "            Adj. Close    HL_PCT  PCT_change  Adj. Volume\n",
       "Date                                                     \n",
       "2017-07-05      327.09  6.160384   -5.792051   16883496.0\n",
       "2017-07-06      308.89  3.852472   -2.638215   19189195.0\n",
       "2017-07-07      313.22  1.206819   -0.089314   14053750.0\n",
       "2017-07-10      316.05  0.598007    1.006711   13702080.0\n",
       "2017-07-11      327.22  0.018336    3.550633   11400054.0"
      ]
     },
     "execution_count": 2,
     "metadata": {},
     "output_type": "execute_result"
    }
   ],
   "source": [
    "# Regression is typically used for forecast\n",
    "\n",
    "df = quandl.get(\"WIKI/TSLA\")\n",
    "\n",
    "df = df[[\"Adj. Open\", \"Adj. High\", \"Adj. Low\", \"Adj. Close\", \"Adj. Volume\"]]\n",
    "df[\"HL_PCT\"] = (df[\"Adj. High\"] - df[\"Adj. Close\"]) / df[\"Adj. Close\"] * 100.0  # PCT - percent\n",
    "df[\"PCT_change\"] = (df[\"Adj. Close\"] - df[\"Adj. Open\"]) / df[\"Adj. Open\"] * 100.0\n",
    "df = df[[\"Adj. Close\", \"HL_PCT\", \"PCT_change\", \"Adj. Volume\"]]\n",
    "\n",
    "df.fillna(-9999, inplace=True)  # Fills the not a number with -99999, resulting an outlier\n",
    "df.tail()"
   ]
  },
  {
   "cell_type": "code",
   "execution_count": 3,
   "metadata": {
    "collapsed": false
   },
   "outputs": [
    {
     "data": {
      "text/html": [
       "<div>\n",
       "<style>\n",
       "    .dataframe thead tr:only-child th {\n",
       "        text-align: right;\n",
       "    }\n",
       "\n",
       "    .dataframe thead th {\n",
       "        text-align: left;\n",
       "    }\n",
       "\n",
       "    .dataframe tbody tr th {\n",
       "        vertical-align: top;\n",
       "    }\n",
       "</style>\n",
       "<table border=\"1\" class=\"dataframe\">\n",
       "  <thead>\n",
       "    <tr style=\"text-align: right;\">\n",
       "      <th></th>\n",
       "      <th>Adj. Close</th>\n",
       "      <th>HL_PCT</th>\n",
       "      <th>PCT_change</th>\n",
       "      <th>Adj. Volume</th>\n",
       "      <th>label</th>\n",
       "    </tr>\n",
       "    <tr>\n",
       "      <th>Date</th>\n",
       "      <th></th>\n",
       "      <th></th>\n",
       "      <th></th>\n",
       "      <th></th>\n",
       "      <th></th>\n",
       "    </tr>\n",
       "  </thead>\n",
       "  <tbody>\n",
       "    <tr>\n",
       "      <th>2017-06-08</th>\n",
       "      <td>370.00</td>\n",
       "      <td>0.513514</td>\n",
       "      <td>1.718213</td>\n",
       "      <td>8975028.0</td>\n",
       "      <td>327.09</td>\n",
       "    </tr>\n",
       "    <tr>\n",
       "      <th>2017-06-09</th>\n",
       "      <td>357.32</td>\n",
       "      <td>5.471286</td>\n",
       "      <td>-4.567064</td>\n",
       "      <td>17160231.0</td>\n",
       "      <td>308.89</td>\n",
       "    </tr>\n",
       "    <tr>\n",
       "      <th>2017-06-12</th>\n",
       "      <td>359.01</td>\n",
       "      <td>1.529205</td>\n",
       "      <td>0.284924</td>\n",
       "      <td>10476833.0</td>\n",
       "      <td>313.22</td>\n",
       "    </tr>\n",
       "    <tr>\n",
       "      <th>2017-06-13</th>\n",
       "      <td>375.95</td>\n",
       "      <td>0.013300</td>\n",
       "      <td>2.265927</td>\n",
       "      <td>11693404.0</td>\n",
       "      <td>316.05</td>\n",
       "    </tr>\n",
       "    <tr>\n",
       "      <th>2017-06-14</th>\n",
       "      <td>380.66</td>\n",
       "      <td>0.943099</td>\n",
       "      <td>-0.111524</td>\n",
       "      <td>12731997.0</td>\n",
       "      <td>327.22</td>\n",
       "    </tr>\n",
       "  </tbody>\n",
       "</table>\n",
       "</div>"
      ],
      "text/plain": [
       "            Adj. Close    HL_PCT  PCT_change  Adj. Volume   label\n",
       "Date                                                             \n",
       "2017-06-08      370.00  0.513514    1.718213    8975028.0  327.09\n",
       "2017-06-09      357.32  5.471286   -4.567064   17160231.0  308.89\n",
       "2017-06-12      359.01  1.529205    0.284924   10476833.0  313.22\n",
       "2017-06-13      375.95  0.013300    2.265927   11693404.0  316.05\n",
       "2017-06-14      380.66  0.943099   -0.111524   12731997.0  327.22"
      ]
     },
     "execution_count": 3,
     "metadata": {},
     "output_type": "execute_result"
    }
   ],
   "source": [
    "forecast_col = \"Adj. Close\"\n",
    "forecast_out = int(math.ceil(0.01 * len(df)))  # 1% of the frame.\n",
    "\n",
    "df[\"label\"] = df[forecast_col].shift(-forecast_out)\n",
    "df.dropna(inplace=True)\n",
    "\n",
    "df.tail()"
   ]
  },
  {
   "cell_type": "code",
   "execution_count": 4,
   "metadata": {
    "collapsed": false
   },
   "outputs": [],
   "source": [
    "X = np.array(df.drop([\"label\"], 1))\n",
    "y = np.array(df[\"label\"])\n",
    "\n",
    "X = preprocessing.scale(X)  # Adds processing time\n",
    "y = np.array(df[\"label\"])"
   ]
  },
  {
   "cell_type": "code",
   "execution_count": 5,
   "metadata": {
    "collapsed": true
   },
   "outputs": [],
   "source": [
    "# Training\n"
   ]
  }
 ],
 "metadata": {
  "kernelspec": {
   "display_name": "Python 3",
   "language": "python",
   "name": "python3"
  },
  "language_info": {
   "codemirror_mode": {
    "name": "ipython",
    "version": 3
   },
   "file_extension": ".py",
   "mimetype": "text/x-python",
   "name": "python",
   "nbconvert_exporter": "python",
   "pygments_lexer": "ipython3",
   "version": "3.6.0"
  }
 },
 "nbformat": 4,
 "nbformat_minor": 2
}
